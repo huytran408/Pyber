{
 "cells": [
  {
   "cell_type": "code",
   "execution_count": null,
   "metadata": {},
   "outputs": [],
   "source": [
    "import numpy as np\n",
    "import matplotlib.pyplot as plt\n",
    "import pandas as pd\n",
    "\n",
    "# File to Load (Remember to change these)\n",
    "city_data_to_load = \"data/city_data.csv\"\n",
    "ride_data_to_load = \"data/ride_data.csv\"\n",
    "\n",
    "citydatadf = pd.read_csv(city_data_to_load)\n",
    "ridedatadf = pd.read_csv(ride_data_to_load)\n",
    "\n",
    "\n",
    "# Read the City and Ride Data\n",
    "print(citydatadf.head())\n",
    "print(ridedatadf.head())\n"
   ]
  },
  {
   "cell_type": "code",
   "execution_count": null,
   "metadata": {},
   "outputs": [],
   "source": [
    "#Combine the data into a single dataset\n",
    "\n",
    "masterdf = pd.merge(citydatadf,ridedatadf, on='city')\n",
    "# Display the data table for preview\n",
    "masterdf.head()"
   ]
  },
  {
   "cell_type": "markdown",
   "metadata": {},
   "source": [
    "# Bubble Plot of Ride Sharing Data\n"
   ]
  },
  {
   "cell_type": "code",
   "execution_count": null,
   "metadata": {},
   "outputs": [],
   "source": [
    "# Obtain the x and y coordinates for each of the three city types\n",
    "\n",
    "#avg fair by city\n",
    "average_fair = masterdf.groupby('city')['fare'].mean()\n",
    "total_rides = masterdf.groupby('city')['ride_id'].count()\n",
    "total_drivers = masterdf.groupby('city')['driver_count'].mean()\n",
    "city_type = citydatadf.set_index('city')['type']\n",
    "\n",
    "\n",
    "#create city df with summary totals\n",
    "\n",
    "pyber_cities_df = pd.DataFrame({'Average Fare':average_fair,\n",
    "                                'Total Rides': total_rides,\n",
    "                                'Total Drivers':total_drivers,\n",
    "                               'City Type': city_type})\n",
    "\n",
    "#Create city types df for scatter plot\n",
    "urban = pyber_cities_df.loc[pyber_cities_df[\"City Type\"]== 'Urban']\n",
    "suburban = pyber_cities_df.loc[pyber_cities_df[\"City Type\"]== 'suburban']\n",
    "rural = pyber_cities_df.loc[pyber_cities_df[\"City Type\"]== 'rural']\n",
    "\n",
    "# Build the scatter plots for each city types\n",
    "\n",
    "\n",
    "plt.scatter(urban['Total Rides'],urban['Average Fare'],color='gold',label = 'Urban',s=urban['Total Drivers']*10, alpha =.5, linewidth= .5,edgecolors = 'black')\n",
    "plt.scatter(suburban['Total Rides'],suburban['Average Fare'],color='coral',label = 'Surban',s=suburban['Total Drivers']*10,\n",
    "            alpha =.5, linewidth= .5,edgecolors = 'black')\n",
    "plt.scatter(rural['Total Rides'],rural['Average Fare'],color='SkyBlue',label = 'Rural',s=rural['Total Drivers']*10,\n",
    "            alpha =.5, linewidth= .5,edgecolors = 'black')\n",
    "\n",
    "# Incorporate the other graph properties\n",
    "plt.title(\"Pyber Ride Sharing Data\")\n",
    "plt.xlabel(\"Total Number of Rides (Per City)\")\n",
    "plt.ylabel(\"Average Fare ($)\")\n",
    "\n",
    "\n",
    "# Create a legend\n",
    "plt.legend(loc='best')\n",
    "\n",
    "# Incorporate a text label regarding circle size\n",
    "plt.text(40,50,\" Note: Circle size correlates with driver count per city\")\n",
    "\n",
    "# Save Figure\n",
    "plt.show()"
   ]
  },
  {
   "cell_type": "code",
   "execution_count": null,
   "metadata": {},
   "outputs": [],
   "source": []
  }
 ],
 "metadata": {
  "kernelspec": {
   "display_name": "Python [conda env:PythonData]",
   "language": "python",
   "name": "conda-env-PythonData-py"
  },
  "language_info": {
   "codemirror_mode": {
    "name": "ipython",
    "version": 3
   },
   "file_extension": ".py",
   "mimetype": "text/x-python",
   "name": "python",
   "nbconvert_exporter": "python",
   "pygments_lexer": "ipython3",
   "version": "3.6.7"
  }
 },
 "nbformat": 4,
 "nbformat_minor": 2
}
